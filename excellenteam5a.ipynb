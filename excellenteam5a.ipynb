{
  "nbformat": 4,
  "nbformat_minor": 0,
  "metadata": {
    "colab": {
      "name": "excellenteam5a.ipynb",
      "provenance": []
    },
    "kernelspec": {
      "name": "python3",
      "display_name": "Python 3"
    },
    "language_info": {
      "name": "python"
    }
  },
  "cells": [
    {
      "cell_type": "markdown",
      "source": [
        "Tehila Azulay\n",
        "211884879"
      ],
      "metadata": {
        "id": "Ko1LQNlOZcak"
      }
    },
    {
      "cell_type": "code",
      "execution_count": null,
      "metadata": {
        "id": "EamB__oVZKyR"
      },
      "outputs": [],
      "source": [
        "#It's the final?\n",
        "import datetime\n",
        "from datetime import date\n",
        "def countDays(dati):\n",
        " today = date.today()\n",
        " l=(today-dati)\n",
        " return l.days\n",
        " \n",
        "#try\n",
        "countDays(datetime.date(2021, 1, 16))"
      ]
    },
    {
      "cell_type": "code",
      "source": [
        "#אין לי ויניגרט\n",
        "import datetime\n",
        "from datetime import date\n",
        "def randomDate(start_date,end_date):\n",
        " time_between_dates = end_date - start_date\n",
        " days_between_dates = time_between_dates.days\n",
        " random_number_of_days = random.randrange(days_between_dates)\n",
        " random_date = start_date + datetime.timedelta(days=random_number_of_days)\n",
        " return random_date\n",
        "\n",
        "#try\n",
        "randomDate(datetime.date(2021, 1, 16),datetime.date(2022, 1, 16))"
      ],
      "metadata": {
        "id": "cinZZ9BDZSV1"
      },
      "execution_count": null,
      "outputs": []
    },
    {
      "cell_type": "code",
      "source": [
        "#cup of join\n",
        "def ourJoin(*lists):\n",
        "  sep=lists[len(lists)-1]\n",
        "  temp=(len(lists)-1)\n",
        "  if type(sep)!=str:\n",
        "    sep='-'\n",
        "    temp+=1\n",
        "  result=[]\n",
        "  for i in range(temp):\n",
        "    result.append(lists[i])\n",
        "    result.append(sep)\n",
        "  result=result[:-1]\n",
        "  return result\n",
        "#try\n",
        "ourJoin([1,2,3],[4,5,6],'f')"
      ],
      "metadata": {
        "id": "Z1dSjXq_ZUfJ"
      },
      "execution_count": null,
      "outputs": []
    },
    {
      "cell_type": "code",
      "source": [
        "#חתכת עוגה\n",
        "def get_recipe_price(dic,**prices):\n",
        "  for ingredient, price in prices.items():\n",
        "    dic[ingredient]*=price/100\n",
        "  return int(sum(dic.values()))\n",
        "get_recipe_price({'chocolate': 18, 'milk': 8}, chocolate=200, milk=100)"
      ],
      "metadata": {
        "id": "K67T268bZXw-"
      },
      "execution_count": null,
      "outputs": []
    }
  ]
}